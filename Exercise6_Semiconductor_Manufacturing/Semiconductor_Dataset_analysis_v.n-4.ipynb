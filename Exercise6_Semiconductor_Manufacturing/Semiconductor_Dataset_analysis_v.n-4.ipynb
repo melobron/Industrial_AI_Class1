{
 "cells": [
  {
   "cell_type": "markdown",
   "metadata": {
    "colab_type": "text",
    "id": "RHGaTaFok7Qo"
   },
   "source": [
    "## SECOM Dataset\n",
    "\n",
    "제조 공정 특성 선택 및 분류\n",
    "\n",
    "개요: 반도체 제조 공정의 데이터\n",
    "\n",
    "데이터 집합 특성: 다변량\n",
    "row : 1567개\n",
    "column : 591개\n",
    "\n",
    "데이터 구성\n",
    "독립 변수 : 수치형\n",
    "종속 변수 : 이산형\n",
    "\n",
    "데이터 특징\n",
    "결측값 존재\n",
    "타임 스탬프 존재\n",
    "다수의 독립 변수 존재(591개)\n",
    "종속 변수가 존재하고, 이산형임에 따라 분류 알고리즘 사용\n",
    "\n",
    "데이터 내용\n",
    "반도체 제조 공정에서 여러가지 센서 데이터가 존재하고, 그 센서 데이터와 종속된 결과가 존재.\n",
    "결과는 -1이 정상, 1이 비정상으로 구분되어 있음.\n",
    "데이터 타임스탬프는 해당 특정 시험 지점에 대한 것.\n"
   ]
  },
  {
   "cell_type": "code",
   "execution_count": 1,
   "metadata": {
    "colab": {
     "base_uri": "https://localhost:8080/",
     "height": 423
    },
    "colab_type": "code",
    "id": "6ePp9wugkEzY",
    "outputId": "77687566-2d33-44dc-c504-de06152c2919"
   },
   "outputs": [
    {
     "data": {
      "text/html": [
       "<div>\n",
       "<style scoped>\n",
       "    .dataframe tbody tr th:only-of-type {\n",
       "        vertical-align: middle;\n",
       "    }\n",
       "\n",
       "    .dataframe tbody tr th {\n",
       "        vertical-align: top;\n",
       "    }\n",
       "\n",
       "    .dataframe thead th {\n",
       "        text-align: right;\n",
       "    }\n",
       "</style>\n",
       "<table border=\"1\" class=\"dataframe\">\n",
       "  <thead>\n",
       "    <tr style=\"text-align: right;\">\n",
       "      <th></th>\n",
       "      <th>Time</th>\n",
       "      <th>0</th>\n",
       "      <th>1</th>\n",
       "      <th>2</th>\n",
       "      <th>3</th>\n",
       "      <th>4</th>\n",
       "      <th>5</th>\n",
       "      <th>6</th>\n",
       "      <th>7</th>\n",
       "      <th>8</th>\n",
       "      <th>...</th>\n",
       "      <th>581</th>\n",
       "      <th>582</th>\n",
       "      <th>583</th>\n",
       "      <th>584</th>\n",
       "      <th>585</th>\n",
       "      <th>586</th>\n",
       "      <th>587</th>\n",
       "      <th>588</th>\n",
       "      <th>589</th>\n",
       "      <th>Pass/Fail</th>\n",
       "    </tr>\n",
       "  </thead>\n",
       "  <tbody>\n",
       "    <tr>\n",
       "      <th>0</th>\n",
       "      <td>2008-07-19 11:55:00</td>\n",
       "      <td>3030.93</td>\n",
       "      <td>2564.00</td>\n",
       "      <td>2187.7333</td>\n",
       "      <td>1411.1265</td>\n",
       "      <td>1.3602</td>\n",
       "      <td>100.0</td>\n",
       "      <td>97.6133</td>\n",
       "      <td>0.1242</td>\n",
       "      <td>1.5005</td>\n",
       "      <td>...</td>\n",
       "      <td>NaN</td>\n",
       "      <td>0.5005</td>\n",
       "      <td>0.0118</td>\n",
       "      <td>0.0035</td>\n",
       "      <td>2.3630</td>\n",
       "      <td>NaN</td>\n",
       "      <td>NaN</td>\n",
       "      <td>NaN</td>\n",
       "      <td>NaN</td>\n",
       "      <td>-1</td>\n",
       "    </tr>\n",
       "    <tr>\n",
       "      <th>1</th>\n",
       "      <td>2008-07-19 12:32:00</td>\n",
       "      <td>3095.78</td>\n",
       "      <td>2465.14</td>\n",
       "      <td>2230.4222</td>\n",
       "      <td>1463.6606</td>\n",
       "      <td>0.8294</td>\n",
       "      <td>100.0</td>\n",
       "      <td>102.3433</td>\n",
       "      <td>0.1247</td>\n",
       "      <td>1.4966</td>\n",
       "      <td>...</td>\n",
       "      <td>208.2045</td>\n",
       "      <td>0.5019</td>\n",
       "      <td>0.0223</td>\n",
       "      <td>0.0055</td>\n",
       "      <td>4.4447</td>\n",
       "      <td>0.0096</td>\n",
       "      <td>0.0201</td>\n",
       "      <td>0.0060</td>\n",
       "      <td>208.2045</td>\n",
       "      <td>-1</td>\n",
       "    </tr>\n",
       "    <tr>\n",
       "      <th>2</th>\n",
       "      <td>2008-07-19 13:17:00</td>\n",
       "      <td>2932.61</td>\n",
       "      <td>2559.94</td>\n",
       "      <td>2186.4111</td>\n",
       "      <td>1698.0172</td>\n",
       "      <td>1.5102</td>\n",
       "      <td>100.0</td>\n",
       "      <td>95.4878</td>\n",
       "      <td>0.1241</td>\n",
       "      <td>1.4436</td>\n",
       "      <td>...</td>\n",
       "      <td>82.8602</td>\n",
       "      <td>0.4958</td>\n",
       "      <td>0.0157</td>\n",
       "      <td>0.0039</td>\n",
       "      <td>3.1745</td>\n",
       "      <td>0.0584</td>\n",
       "      <td>0.0484</td>\n",
       "      <td>0.0148</td>\n",
       "      <td>82.8602</td>\n",
       "      <td>1</td>\n",
       "    </tr>\n",
       "    <tr>\n",
       "      <th>3</th>\n",
       "      <td>2008-07-19 14:43:00</td>\n",
       "      <td>2988.72</td>\n",
       "      <td>2479.90</td>\n",
       "      <td>2199.0333</td>\n",
       "      <td>909.7926</td>\n",
       "      <td>1.3204</td>\n",
       "      <td>100.0</td>\n",
       "      <td>104.2367</td>\n",
       "      <td>0.1217</td>\n",
       "      <td>1.4882</td>\n",
       "      <td>...</td>\n",
       "      <td>73.8432</td>\n",
       "      <td>0.4990</td>\n",
       "      <td>0.0103</td>\n",
       "      <td>0.0025</td>\n",
       "      <td>2.0544</td>\n",
       "      <td>0.0202</td>\n",
       "      <td>0.0149</td>\n",
       "      <td>0.0044</td>\n",
       "      <td>73.8432</td>\n",
       "      <td>-1</td>\n",
       "    </tr>\n",
       "    <tr>\n",
       "      <th>4</th>\n",
       "      <td>2008-07-19 15:22:00</td>\n",
       "      <td>3032.24</td>\n",
       "      <td>2502.87</td>\n",
       "      <td>2233.3667</td>\n",
       "      <td>1326.5200</td>\n",
       "      <td>1.5334</td>\n",
       "      <td>100.0</td>\n",
       "      <td>100.3967</td>\n",
       "      <td>0.1235</td>\n",
       "      <td>1.5031</td>\n",
       "      <td>...</td>\n",
       "      <td>NaN</td>\n",
       "      <td>0.4800</td>\n",
       "      <td>0.4766</td>\n",
       "      <td>0.1045</td>\n",
       "      <td>99.3032</td>\n",
       "      <td>0.0202</td>\n",
       "      <td>0.0149</td>\n",
       "      <td>0.0044</td>\n",
       "      <td>73.8432</td>\n",
       "      <td>-1</td>\n",
       "    </tr>\n",
       "  </tbody>\n",
       "</table>\n",
       "<p>5 rows × 592 columns</p>\n",
       "</div>"
      ],
      "text/plain": [
       "                  Time        0        1          2          3       4      5  \\\n",
       "0  2008-07-19 11:55:00  3030.93  2564.00  2187.7333  1411.1265  1.3602  100.0   \n",
       "1  2008-07-19 12:32:00  3095.78  2465.14  2230.4222  1463.6606  0.8294  100.0   \n",
       "2  2008-07-19 13:17:00  2932.61  2559.94  2186.4111  1698.0172  1.5102  100.0   \n",
       "3  2008-07-19 14:43:00  2988.72  2479.90  2199.0333   909.7926  1.3204  100.0   \n",
       "4  2008-07-19 15:22:00  3032.24  2502.87  2233.3667  1326.5200  1.5334  100.0   \n",
       "\n",
       "          6       7       8  ...       581     582     583     584      585  \\\n",
       "0   97.6133  0.1242  1.5005  ...       NaN  0.5005  0.0118  0.0035   2.3630   \n",
       "1  102.3433  0.1247  1.4966  ...  208.2045  0.5019  0.0223  0.0055   4.4447   \n",
       "2   95.4878  0.1241  1.4436  ...   82.8602  0.4958  0.0157  0.0039   3.1745   \n",
       "3  104.2367  0.1217  1.4882  ...   73.8432  0.4990  0.0103  0.0025   2.0544   \n",
       "4  100.3967  0.1235  1.5031  ...       NaN  0.4800  0.4766  0.1045  99.3032   \n",
       "\n",
       "      586     587     588       589  Pass/Fail  \n",
       "0     NaN     NaN     NaN       NaN         -1  \n",
       "1  0.0096  0.0201  0.0060  208.2045         -1  \n",
       "2  0.0584  0.0484  0.0148   82.8602          1  \n",
       "3  0.0202  0.0149  0.0044   73.8432         -1  \n",
       "4  0.0202  0.0149  0.0044   73.8432         -1  \n",
       "\n",
       "[5 rows x 592 columns]"
      ]
     },
     "execution_count": 1,
     "metadata": {},
     "output_type": "execute_result"
    }
   ],
   "source": [
    "import pandas as pd\n",
    "import numpy as np\n",
    "\n",
    "uci = pd.read_csv(\"D:\\\\dataset\\\\Secom\\\\uci-secom.csv\")\n",
    "uci.head()"
   ]
  },
  {
   "cell_type": "code",
   "execution_count": 2,
   "metadata": {
    "colab": {
     "base_uri": "https://localhost:8080/",
     "height": 283
    },
    "colab_type": "code",
    "id": "CluOnP7bBb40",
    "outputId": "e7b7ad16-0690-480f-fd53-35ddb7301487"
   },
   "outputs": [
    {
     "data": {
      "text/plain": [
       "<matplotlib.axes._subplots.AxesSubplot at 0x19ef5737c08>"
      ]
     },
     "execution_count": 2,
     "metadata": {},
     "output_type": "execute_result"
    },
    {
     "data": {
      "image/png": "[encoded data removed]",
      "text/plain": [
       "<Figure size 432x288 with 1 Axes>"
      ]
     },
     "metadata": {
      "needs_background": "light"
     },
     "output_type": "display_data"
    }
   ],
   "source": [
    "uci['Pass/Fail'].hist()"
   ]
  },
  {
   "cell_type": "code",
   "execution_count": 3,
   "metadata": {
    "colab": {
     "base_uri": "https://localhost:8080/",
     "height": 71
    },
    "colab_type": "code",
    "id": "Vdapi4skk03a",
    "outputId": "aa300a83-4803-46dd-8529-bc549b3c40fc"
   },
   "outputs": [
    {
     "data": {
      "text/plain": [
       "-1    1463\n",
       " 1     104\n",
       "Name: Pass/Fail, dtype: int64"
      ]
     },
     "execution_count": 3,
     "metadata": {},
     "output_type": "execute_result"
    }
   ],
   "source": [
    "uci['Pass/Fail'].value_counts()"
   ]
  },
  {
   "cell_type": "code",
   "execution_count": 4,
   "metadata": {
    "colab": {
     "base_uri": "https://localhost:8080/",
     "height": 779
    },
    "colab_type": "code",
    "id": "gfpYnDkZnxtQ",
    "outputId": "fbf0409d-2de8-44ee-f984-65c9f5af2ef0"
   },
   "outputs": [
    {
     "data": {
      "text/html": [
       "<div>\n",
       "<style scoped>\n",
       "    .dataframe tbody tr th:only-of-type {\n",
       "        vertical-align: middle;\n",
       "    }\n",
       "\n",
       "    .dataframe tbody tr th {\n",
       "        vertical-align: top;\n",
       "    }\n",
       "\n",
       "    .dataframe thead th {\n",
       "        text-align: right;\n",
       "    }\n",
       "</style>\n",
       "<table border=\"1\" class=\"dataframe\">\n",
       "  <thead>\n",
       "    <tr style=\"text-align: right;\">\n",
       "      <th></th>\n",
       "      <th>Time</th>\n",
       "      <th>20</th>\n",
       "      <th>86</th>\n",
       "      <th>87</th>\n",
       "      <th>88</th>\n",
       "      <th>113</th>\n",
       "      <th>114</th>\n",
       "      <th>115</th>\n",
       "      <th>116</th>\n",
       "      <th>117</th>\n",
       "      <th>...</th>\n",
       "      <th>527</th>\n",
       "      <th>570</th>\n",
       "      <th>571</th>\n",
       "      <th>572</th>\n",
       "      <th>573</th>\n",
       "      <th>574</th>\n",
       "      <th>575</th>\n",
       "      <th>576</th>\n",
       "      <th>577</th>\n",
       "      <th>Pass/Fail</th>\n",
       "    </tr>\n",
       "  </thead>\n",
       "  <tbody>\n",
       "    <tr>\n",
       "      <th>0</th>\n",
       "      <td>2008-07-19 11:55:00</td>\n",
       "      <td>1.4026</td>\n",
       "      <td>2.3895</td>\n",
       "      <td>0.9690</td>\n",
       "      <td>1747.6049</td>\n",
       "      <td>0.9460</td>\n",
       "      <td>0.0</td>\n",
       "      <td>748.6115</td>\n",
       "      <td>0.9908</td>\n",
       "      <td>58.4306</td>\n",
       "      <td>...</td>\n",
       "      <td>6.6926</td>\n",
       "      <td>533.8500</td>\n",
       "      <td>2.1113</td>\n",
       "      <td>8.95</td>\n",
       "      <td>0.3157</td>\n",
       "      <td>3.0624</td>\n",
       "      <td>0.1026</td>\n",
       "      <td>1.6765</td>\n",
       "      <td>14.9509</td>\n",
       "      <td>-1</td>\n",
       "    </tr>\n",
       "    <tr>\n",
       "      <th>1</th>\n",
       "      <td>2008-07-19 12:32:00</td>\n",
       "      <td>1.3825</td>\n",
       "      <td>2.3754</td>\n",
       "      <td>0.9894</td>\n",
       "      <td>1931.6464</td>\n",
       "      <td>0.9425</td>\n",
       "      <td>0.0</td>\n",
       "      <td>731.2517</td>\n",
       "      <td>0.9902</td>\n",
       "      <td>58.6680</td>\n",
       "      <td>...</td>\n",
       "      <td>8.8370</td>\n",
       "      <td>535.0164</td>\n",
       "      <td>2.4335</td>\n",
       "      <td>5.92</td>\n",
       "      <td>0.2653</td>\n",
       "      <td>2.0111</td>\n",
       "      <td>0.0772</td>\n",
       "      <td>1.1065</td>\n",
       "      <td>10.9003</td>\n",
       "      <td>-1</td>\n",
       "    </tr>\n",
       "    <tr>\n",
       "      <th>2</th>\n",
       "      <td>2008-07-19 13:17:00</td>\n",
       "      <td>1.4123</td>\n",
       "      <td>2.4532</td>\n",
       "      <td>0.9880</td>\n",
       "      <td>1685.8514</td>\n",
       "      <td>0.9231</td>\n",
       "      <td>0.0</td>\n",
       "      <td>718.5777</td>\n",
       "      <td>0.9899</td>\n",
       "      <td>58.4808</td>\n",
       "      <td>...</td>\n",
       "      <td>6.4568</td>\n",
       "      <td>535.0245</td>\n",
       "      <td>2.0293</td>\n",
       "      <td>11.21</td>\n",
       "      <td>0.1882</td>\n",
       "      <td>4.0923</td>\n",
       "      <td>0.0640</td>\n",
       "      <td>2.0952</td>\n",
       "      <td>9.2721</td>\n",
       "      <td>1</td>\n",
       "    </tr>\n",
       "    <tr>\n",
       "      <th>3</th>\n",
       "      <td>2008-07-19 14:43:00</td>\n",
       "      <td>1.4011</td>\n",
       "      <td>2.4004</td>\n",
       "      <td>0.9904</td>\n",
       "      <td>1752.0968</td>\n",
       "      <td>0.9564</td>\n",
       "      <td>0.0</td>\n",
       "      <td>709.0867</td>\n",
       "      <td>0.9906</td>\n",
       "      <td>58.6635</td>\n",
       "      <td>...</td>\n",
       "      <td>6.4865</td>\n",
       "      <td>530.5682</td>\n",
       "      <td>2.0253</td>\n",
       "      <td>9.33</td>\n",
       "      <td>0.1738</td>\n",
       "      <td>2.8971</td>\n",
       "      <td>0.0525</td>\n",
       "      <td>1.7585</td>\n",
       "      <td>8.5831</td>\n",
       "      <td>-1</td>\n",
       "    </tr>\n",
       "    <tr>\n",
       "      <th>4</th>\n",
       "      <td>2008-07-19 15:22:00</td>\n",
       "      <td>1.3888</td>\n",
       "      <td>2.4530</td>\n",
       "      <td>0.9902</td>\n",
       "      <td>1828.3846</td>\n",
       "      <td>0.9424</td>\n",
       "      <td>0.0</td>\n",
       "      <td>796.5950</td>\n",
       "      <td>0.9908</td>\n",
       "      <td>58.3858</td>\n",
       "      <td>...</td>\n",
       "      <td>6.3745</td>\n",
       "      <td>532.0155</td>\n",
       "      <td>2.0275</td>\n",
       "      <td>8.83</td>\n",
       "      <td>0.2224</td>\n",
       "      <td>3.1776</td>\n",
       "      <td>0.0706</td>\n",
       "      <td>1.6597</td>\n",
       "      <td>10.9698</td>\n",
       "      <td>-1</td>\n",
       "    </tr>\n",
       "    <tr>\n",
       "      <th>...</th>\n",
       "      <td>...</td>\n",
       "      <td>...</td>\n",
       "      <td>...</td>\n",
       "      <td>...</td>\n",
       "      <td>...</td>\n",
       "      <td>...</td>\n",
       "      <td>...</td>\n",
       "      <td>...</td>\n",
       "      <td>...</td>\n",
       "      <td>...</td>\n",
       "      <td>...</td>\n",
       "      <td>...</td>\n",
       "      <td>...</td>\n",
       "      <td>...</td>\n",
       "      <td>...</td>\n",
       "      <td>...</td>\n",
       "      <td>...</td>\n",
       "      <td>...</td>\n",
       "      <td>...</td>\n",
       "      <td>...</td>\n",
       "      <td>...</td>\n",
       "    </tr>\n",
       "    <tr>\n",
       "      <th>1562</th>\n",
       "      <td>2008-10-16 15:13:00</td>\n",
       "      <td>1.4072</td>\n",
       "      <td>2.3762</td>\n",
       "      <td>0.9861</td>\n",
       "      <td>1869.4215</td>\n",
       "      <td>0.9520</td>\n",
       "      <td>0.0</td>\n",
       "      <td>727.6761</td>\n",
       "      <td>0.9894</td>\n",
       "      <td>58.3514</td>\n",
       "      <td>...</td>\n",
       "      <td>2.6649</td>\n",
       "      <td>536.3418</td>\n",
       "      <td>2.0153</td>\n",
       "      <td>7.98</td>\n",
       "      <td>0.2363</td>\n",
       "      <td>2.6401</td>\n",
       "      <td>0.0785</td>\n",
       "      <td>1.4879</td>\n",
       "      <td>11.7256</td>\n",
       "      <td>-1</td>\n",
       "    </tr>\n",
       "    <tr>\n",
       "      <th>1563</th>\n",
       "      <td>2008-10-16 20:49:00</td>\n",
       "      <td>1.3949</td>\n",
       "      <td>2.4880</td>\n",
       "      <td>0.9911</td>\n",
       "      <td>1872.5133</td>\n",
       "      <td>0.9561</td>\n",
       "      <td>0.0</td>\n",
       "      <td>755.7527</td>\n",
       "      <td>0.9899</td>\n",
       "      <td>57.1020</td>\n",
       "      <td>...</td>\n",
       "      <td>6.0192</td>\n",
       "      <td>537.9264</td>\n",
       "      <td>2.1814</td>\n",
       "      <td>5.48</td>\n",
       "      <td>0.3891</td>\n",
       "      <td>1.9077</td>\n",
       "      <td>0.1213</td>\n",
       "      <td>1.0187</td>\n",
       "      <td>17.8379</td>\n",
       "      <td>-1</td>\n",
       "    </tr>\n",
       "    <tr>\n",
       "      <th>1564</th>\n",
       "      <td>2008-10-17 05:26:00</td>\n",
       "      <td>1.4256</td>\n",
       "      <td>2.4590</td>\n",
       "      <td>0.9869</td>\n",
       "      <td>1820.3629</td>\n",
       "      <td>0.9488</td>\n",
       "      <td>0.0</td>\n",
       "      <td>704.2686</td>\n",
       "      <td>0.9891</td>\n",
       "      <td>59.2046</td>\n",
       "      <td>...</td>\n",
       "      <td>5.4641</td>\n",
       "      <td>530.3709</td>\n",
       "      <td>2.3435</td>\n",
       "      <td>6.49</td>\n",
       "      <td>0.4154</td>\n",
       "      <td>2.1760</td>\n",
       "      <td>0.1352</td>\n",
       "      <td>1.2237</td>\n",
       "      <td>17.7267</td>\n",
       "      <td>-1</td>\n",
       "    </tr>\n",
       "    <tr>\n",
       "      <th>1565</th>\n",
       "      <td>2008-10-17 06:01:00</td>\n",
       "      <td>1.3868</td>\n",
       "      <td>2.3600</td>\n",
       "      <td>0.9796</td>\n",
       "      <td>1627.4714</td>\n",
       "      <td>0.9485</td>\n",
       "      <td>0.0</td>\n",
       "      <td>605.6190</td>\n",
       "      <td>0.9896</td>\n",
       "      <td>58.2686</td>\n",
       "      <td>...</td>\n",
       "      <td>6.5512</td>\n",
       "      <td>534.3936</td>\n",
       "      <td>1.9098</td>\n",
       "      <td>9.13</td>\n",
       "      <td>0.3669</td>\n",
       "      <td>3.2524</td>\n",
       "      <td>0.1040</td>\n",
       "      <td>1.7085</td>\n",
       "      <td>19.2104</td>\n",
       "      <td>-1</td>\n",
       "    </tr>\n",
       "    <tr>\n",
       "      <th>1566</th>\n",
       "      <td>2008-10-17 06:07:00</td>\n",
       "      <td>1.4048</td>\n",
       "      <td>2.3701</td>\n",
       "      <td>0.9758</td>\n",
       "      <td>1759.9908</td>\n",
       "      <td>0.9432</td>\n",
       "      <td>0.0</td>\n",
       "      <td>683.5622</td>\n",
       "      <td>0.9893</td>\n",
       "      <td>59.8578</td>\n",
       "      <td>...</td>\n",
       "      <td>4.1651</td>\n",
       "      <td>528.7918</td>\n",
       "      <td>2.0831</td>\n",
       "      <td>6.81</td>\n",
       "      <td>0.4774</td>\n",
       "      <td>2.2727</td>\n",
       "      <td>0.1495</td>\n",
       "      <td>1.2878</td>\n",
       "      <td>22.9183</td>\n",
       "      <td>-1</td>\n",
       "    </tr>\n",
       "  </tbody>\n",
       "</table>\n",
       "<p>1567 rows × 54 columns</p>\n",
       "</div>"
      ],
      "text/plain": [
       "                     Time      20      86      87         88     113  114  \\\n",
       "0     2008-07-19 11:55:00  1.4026  2.3895  0.9690  1747.6049  0.9460  0.0   \n",
       "1     2008-07-19 12:32:00  1.3825  2.3754  0.9894  1931.6464  0.9425  0.0   \n",
       "2     2008-07-19 13:17:00  1.4123  2.4532  0.9880  1685.8514  0.9231  0.0   \n",
       "3     2008-07-19 14:43:00  1.4011  2.4004  0.9904  1752.0968  0.9564  0.0   \n",
       "4     2008-07-19 15:22:00  1.3888  2.4530  0.9902  1828.3846  0.9424  0.0   \n",
       "...                   ...     ...     ...     ...        ...     ...  ...   \n",
       "1562  2008-10-16 15:13:00  1.4072  2.3762  0.9861  1869.4215  0.9520  0.0   \n",
       "1563  2008-10-16 20:49:00  1.3949  2.4880  0.9911  1872.5133  0.9561  0.0   \n",
       "1564  2008-10-17 05:26:00  1.4256  2.4590  0.9869  1820.3629  0.9488  0.0   \n",
       "1565  2008-10-17 06:01:00  1.3868  2.3600  0.9796  1627.4714  0.9485  0.0   \n",
       "1566  2008-10-17 06:07:00  1.4048  2.3701  0.9758  1759.9908  0.9432  0.0   \n",
       "\n",
       "           115     116      117  ...     527       570     571    572     573  \\\n",
       "0     748.6115  0.9908  58.4306  ...  6.6926  533.8500  2.1113   8.95  0.3157   \n",
       "1     731.2517  0.9902  58.6680  ...  8.8370  535.0164  2.4335   5.92  0.2653   \n",
       "2     718.5777  0.9899  58.4808  ...  6.4568  535.0245  2.0293  11.21  0.1882   \n",
       "3     709.0867  0.9906  58.6635  ...  6.4865  530.5682  2.0253   9.33  0.1738   \n",
       "4     796.5950  0.9908  58.3858  ...  6.3745  532.0155  2.0275   8.83  0.2224   \n",
       "...        ...     ...      ...  ...     ...       ...     ...    ...     ...   \n",
       "1562  727.6761  0.9894  58.3514  ...  2.6649  536.3418  2.0153   7.98  0.2363   \n",
       "1563  755.7527  0.9899  57.1020  ...  6.0192  537.9264  2.1814   5.48  0.3891   \n",
       "1564  704.2686  0.9891  59.2046  ...  5.4641  530.3709  2.3435   6.49  0.4154   \n",
       "1565  605.6190  0.9896  58.2686  ...  6.5512  534.3936  1.9098   9.13  0.3669   \n",
       "1566  683.5622  0.9893  59.8578  ...  4.1651  528.7918  2.0831   6.81  0.4774   \n",
       "\n",
       "         574     575     576      577  Pass/Fail  \n",
       "0     3.0624  0.1026  1.6765  14.9509         -1  \n",
       "1     2.0111  0.0772  1.1065  10.9003         -1  \n",
       "2     4.0923  0.0640  2.0952   9.2721          1  \n",
       "3     2.8971  0.0525  1.7585   8.5831         -1  \n",
       "4     3.1776  0.0706  1.6597  10.9698         -1  \n",
       "...      ...     ...     ...      ...        ...  \n",
       "1562  2.6401  0.0785  1.4879  11.7256         -1  \n",
       "1563  1.9077  0.1213  1.0187  17.8379         -1  \n",
       "1564  2.1760  0.1352  1.2237  17.7267         -1  \n",
       "1565  3.2524  0.1040  1.7085  19.2104         -1  \n",
       "1566  2.2727  0.1495  1.2878  22.9183         -1  \n",
       "\n",
       "[1567 rows x 54 columns]"
      ]
     },
     "execution_count": 4,
     "metadata": {},
     "output_type": "execute_result"
    }
   ],
   "source": [
    "uci.dropna(axis=1)"
   ]
  },
  {
   "cell_type": "markdown",
   "metadata": {
    "colab_type": "text",
    "id": "f5IM5Agke7VN"
   },
   "source": [
    "- 결측치 기준으로 값을 삭제하는건 원본 데이터의 반을 날려버리는 무모한 행위라고 판단되어 해당 컬럼의 평균값으로 대체\n",
    "- 열 기준이 아닌 행 기준에서는 데이터에 큰 영향을 주진 않지만 데이터 원본의 훼손하는 일이라고 판단하여 평균값으로 대체함"
   ]
  },
  {
   "cell_type": "code",
   "execution_count": 5,
   "metadata": {
    "colab": {
     "base_uri": "https://localhost:8080/",
     "height": 233
    },
    "colab_type": "code",
    "id": "Gob7p-VinuMR",
    "outputId": "e7253a86-ff5e-41bd-efa5-67ecb0a7d4b7"
   },
   "outputs": [
    {
     "data": {
      "text/plain": [
       "Time          0\n",
       "0             6\n",
       "1             7\n",
       "2            14\n",
       "3            14\n",
       "             ..\n",
       "586           1\n",
       "587           1\n",
       "588           1\n",
       "589           1\n",
       "Pass/Fail     0\n",
       "Length: 592, dtype: int64"
      ]
     },
     "execution_count": 5,
     "metadata": {},
     "output_type": "execute_result"
    }
   ],
   "source": [
    "uci.isnull().sum()"
   ]
  },
  {
   "cell_type": "code",
   "execution_count": 6,
   "metadata": {
    "colab": {},
    "colab_type": "code",
    "id": "aIJ_FzJkvEd_"
   },
   "outputs": [],
   "source": [
    "uci = uci.fillna(uci.mean())"
   ]
  },
  {
   "cell_type": "code",
   "execution_count": 14,
   "metadata": {
    "colab": {
     "base_uri": "https://localhost:8080/",
     "height": 495
    },
    "colab_type": "code",
    "id": "dj33pP8zejre",
    "outputId": "19d9c309-1374-448d-d47e-2bd2d93f08fa"
   },
   "outputs": [
    {
     "data": {
      "text/plain": [
       "<matplotlib.axes._subplots.AxesSubplot at 0x19ef9a5c608>"
      ]
     },
     "execution_count": 14,
     "metadata": {},
     "output_type": "execute_result"
    },
    {
     "data": {
      "image/png": "[encoded data removed]",
      "text/plain": [
       "<Figure size 504x504 with 2 Axes>"
      ]
     },
     "metadata": {
      "needs_background": "light"
     },
     "output_type": "display_data"
    }
   ],
   "source": [
    "var_reduce_uci = uci.drop(['Time','Pass/Fail'],axis=1)\n",
    "\n",
    "import seaborn as sns    \n",
    "import matplotlib.pyplot as plt\n",
    "plt.figure(figsize=(7,7))\n",
    "sns.heatmap(data = var_reduce_uci .corr(), annot=False,\n",
    "fmt = '.2f', linewidths=.5, cmap='Blues')"
   ]
  },
  {
   "cell_type": "markdown",
   "metadata": {
    "colab_type": "text",
    "id": "4U-_-mAFedqo"
   },
   "source": [
    "### 결측치 때문에 정상적으로 산출이 안되는 상황\n"
   ]
  },
  {
   "cell_type": "code",
   "execution_count": 15,
   "metadata": {
    "colab": {
     "base_uri": "https://localhost:8080/",
     "height": 233
    },
    "colab_type": "code",
    "id": "B7AGC8x_nT5n",
    "outputId": "daef4b43-9fd3-44de-c923-84dd875c8f42"
   },
   "outputs": [
    {
     "data": {
      "text/plain": [
       "0      0\n",
       "1      0\n",
       "2      0\n",
       "3      0\n",
       "4      0\n",
       "      ..\n",
       "585    0\n",
       "586    0\n",
       "587    0\n",
       "588    0\n",
       "589    0\n",
       "Length: 590, dtype: int64"
      ]
     },
     "execution_count": 15,
     "metadata": {},
     "output_type": "execute_result"
    }
   ],
   "source": [
    "var_reduce_uci.isnull().sum()"
   ]
  },
  {
   "cell_type": "markdown",
   "metadata": {
    "colab_type": "text",
    "id": "Ca5Ong5QhKDJ"
   },
   "source": [
    "### 데이터 자체는 결측치가 없으나 상관계수 출력하는 과정에서 결측치 존재"
   ]
  },
  {
   "cell_type": "code",
   "execution_count": 10,
   "metadata": {
    "colab": {
     "base_uri": "https://localhost:8080/",
     "height": 439
    },
    "colab_type": "code",
    "id": "hNfTN7LXlp0J",
    "outputId": "505ad74f-596a-4485-d804-16346a4a3d0c"
   },
   "outputs": [
    {
     "data": {
      "text/html": [
       "<div>\n",
       "<style scoped>\n",
       "    .dataframe tbody tr th:only-of-type {\n",
       "        vertical-align: middle;\n",
       "    }\n",
       "\n",
       "    .dataframe tbody tr th {\n",
       "        vertical-align: top;\n",
       "    }\n",
       "\n",
       "    .dataframe thead th {\n",
       "        text-align: right;\n",
       "    }\n",
       "</style>\n",
       "<table border=\"1\" class=\"dataframe\">\n",
       "  <thead>\n",
       "    <tr style=\"text-align: right;\">\n",
       "      <th></th>\n",
       "      <th>0</th>\n",
       "      <th>1</th>\n",
       "      <th>2</th>\n",
       "      <th>3</th>\n",
       "      <th>4</th>\n",
       "      <th>5</th>\n",
       "      <th>6</th>\n",
       "      <th>7</th>\n",
       "      <th>8</th>\n",
       "      <th>9</th>\n",
       "      <th>...</th>\n",
       "      <th>580</th>\n",
       "      <th>581</th>\n",
       "      <th>582</th>\n",
       "      <th>583</th>\n",
       "      <th>584</th>\n",
       "      <th>585</th>\n",
       "      <th>586</th>\n",
       "      <th>587</th>\n",
       "      <th>588</th>\n",
       "      <th>589</th>\n",
       "    </tr>\n",
       "  </thead>\n",
       "  <tbody>\n",
       "    <tr>\n",
       "      <th>0</th>\n",
       "      <td>1.000000</td>\n",
       "      <td>-0.143840</td>\n",
       "      <td>0.004756</td>\n",
       "      <td>-0.007613</td>\n",
       "      <td>-0.011014</td>\n",
       "      <td>NaN</td>\n",
       "      <td>0.002270</td>\n",
       "      <td>0.031483</td>\n",
       "      <td>-0.052622</td>\n",
       "      <td>0.009045</td>\n",
       "      <td>...</td>\n",
       "      <td>-0.042208</td>\n",
       "      <td>-0.017120</td>\n",
       "      <td>0.000224</td>\n",
       "      <td>0.023453</td>\n",
       "      <td>0.019907</td>\n",
       "      <td>0.023589</td>\n",
       "      <td>0.018443</td>\n",
       "      <td>-0.025880</td>\n",
       "      <td>-0.028166</td>\n",
       "      <td>0.004174</td>\n",
       "    </tr>\n",
       "    <tr>\n",
       "      <th>1</th>\n",
       "      <td>-0.143840</td>\n",
       "      <td>1.000000</td>\n",
       "      <td>0.005767</td>\n",
       "      <td>-0.007568</td>\n",
       "      <td>-0.001636</td>\n",
       "      <td>NaN</td>\n",
       "      <td>-0.025564</td>\n",
       "      <td>-0.012037</td>\n",
       "      <td>0.031258</td>\n",
       "      <td>0.023964</td>\n",
       "      <td>...</td>\n",
       "      <td>0.047372</td>\n",
       "      <td>0.054006</td>\n",
       "      <td>0.043556</td>\n",
       "      <td>0.002904</td>\n",
       "      <td>-0.001264</td>\n",
       "      <td>0.002273</td>\n",
       "      <td>-0.009403</td>\n",
       "      <td>0.017266</td>\n",
       "      <td>0.010118</td>\n",
       "      <td>0.044797</td>\n",
       "    </tr>\n",
       "    <tr>\n",
       "      <th>2</th>\n",
       "      <td>0.004756</td>\n",
       "      <td>0.005767</td>\n",
       "      <td>1.000000</td>\n",
       "      <td>0.298935</td>\n",
       "      <td>0.095891</td>\n",
       "      <td>NaN</td>\n",
       "      <td>-0.136225</td>\n",
       "      <td>-0.146213</td>\n",
       "      <td>0.023528</td>\n",
       "      <td>0.016168</td>\n",
       "      <td>...</td>\n",
       "      <td>-0.012402</td>\n",
       "      <td>-0.007054</td>\n",
       "      <td>-0.006023</td>\n",
       "      <td>0.015697</td>\n",
       "      <td>0.018225</td>\n",
       "      <td>0.015752</td>\n",
       "      <td>-0.025495</td>\n",
       "      <td>-0.029345</td>\n",
       "      <td>-0.030818</td>\n",
       "      <td>-0.032890</td>\n",
       "    </tr>\n",
       "    <tr>\n",
       "      <th>3</th>\n",
       "      <td>-0.007613</td>\n",
       "      <td>-0.007568</td>\n",
       "      <td>0.298935</td>\n",
       "      <td>1.000000</td>\n",
       "      <td>-0.058483</td>\n",
       "      <td>NaN</td>\n",
       "      <td>-0.685835</td>\n",
       "      <td>0.073856</td>\n",
       "      <td>-0.102892</td>\n",
       "      <td>0.068215</td>\n",
       "      <td>...</td>\n",
       "      <td>-0.042177</td>\n",
       "      <td>-0.071311</td>\n",
       "      <td>0.008988</td>\n",
       "      <td>0.025436</td>\n",
       "      <td>0.024736</td>\n",
       "      <td>0.026019</td>\n",
       "      <td>0.034711</td>\n",
       "      <td>-0.039132</td>\n",
       "      <td>-0.033645</td>\n",
       "      <td>-0.080341</td>\n",
       "    </tr>\n",
       "    <tr>\n",
       "      <th>4</th>\n",
       "      <td>-0.011014</td>\n",
       "      <td>-0.001636</td>\n",
       "      <td>0.095891</td>\n",
       "      <td>-0.058483</td>\n",
       "      <td>1.000000</td>\n",
       "      <td>NaN</td>\n",
       "      <td>-0.074368</td>\n",
       "      <td>-0.347734</td>\n",
       "      <td>-0.025946</td>\n",
       "      <td>0.054206</td>\n",
       "      <td>...</td>\n",
       "      <td>-0.041256</td>\n",
       "      <td>0.088167</td>\n",
       "      <td>0.045081</td>\n",
       "      <td>-0.001300</td>\n",
       "      <td>-0.001597</td>\n",
       "      <td>-0.001616</td>\n",
       "      <td>-0.043929</td>\n",
       "      <td>-0.031005</td>\n",
       "      <td>-0.026100</td>\n",
       "      <td>0.050910</td>\n",
       "    </tr>\n",
       "    <tr>\n",
       "      <th>...</th>\n",
       "      <td>...</td>\n",
       "      <td>...</td>\n",
       "      <td>...</td>\n",
       "      <td>...</td>\n",
       "      <td>...</td>\n",
       "      <td>...</td>\n",
       "      <td>...</td>\n",
       "      <td>...</td>\n",
       "      <td>...</td>\n",
       "      <td>...</td>\n",
       "      <td>...</td>\n",
       "      <td>...</td>\n",
       "      <td>...</td>\n",
       "      <td>...</td>\n",
       "      <td>...</td>\n",
       "      <td>...</td>\n",
       "      <td>...</td>\n",
       "      <td>...</td>\n",
       "      <td>...</td>\n",
       "      <td>...</td>\n",
       "      <td>...</td>\n",
       "    </tr>\n",
       "    <tr>\n",
       "      <th>585</th>\n",
       "      <td>0.023589</td>\n",
       "      <td>0.002273</td>\n",
       "      <td>0.015752</td>\n",
       "      <td>0.026019</td>\n",
       "      <td>-0.001616</td>\n",
       "      <td>NaN</td>\n",
       "      <td>-0.039517</td>\n",
       "      <td>0.010337</td>\n",
       "      <td>0.017925</td>\n",
       "      <td>-0.036109</td>\n",
       "      <td>...</td>\n",
       "      <td>-0.000277</td>\n",
       "      <td>-0.000471</td>\n",
       "      <td>-0.197363</td>\n",
       "      <td>0.999890</td>\n",
       "      <td>0.995342</td>\n",
       "      <td>1.000000</td>\n",
       "      <td>0.002743</td>\n",
       "      <td>-0.002930</td>\n",
       "      <td>-0.002530</td>\n",
       "      <td>-0.003800</td>\n",
       "    </tr>\n",
       "    <tr>\n",
       "      <th>586</th>\n",
       "      <td>0.018443</td>\n",
       "      <td>-0.009403</td>\n",
       "      <td>-0.025495</td>\n",
       "      <td>0.034711</td>\n",
       "      <td>-0.043929</td>\n",
       "      <td>NaN</td>\n",
       "      <td>-0.041209</td>\n",
       "      <td>0.058113</td>\n",
       "      <td>0.010433</td>\n",
       "      <td>0.033738</td>\n",
       "      <td>...</td>\n",
       "      <td>0.148954</td>\n",
       "      <td>-0.283333</td>\n",
       "      <td>-0.016726</td>\n",
       "      <td>0.002257</td>\n",
       "      <td>0.001605</td>\n",
       "      <td>0.002743</td>\n",
       "      <td>1.000000</td>\n",
       "      <td>0.167913</td>\n",
       "      <td>0.164238</td>\n",
       "      <td>-0.486559</td>\n",
       "    </tr>\n",
       "    <tr>\n",
       "      <th>587</th>\n",
       "      <td>-0.025880</td>\n",
       "      <td>0.017266</td>\n",
       "      <td>-0.029345</td>\n",
       "      <td>-0.039132</td>\n",
       "      <td>-0.031005</td>\n",
       "      <td>NaN</td>\n",
       "      <td>0.034027</td>\n",
       "      <td>-0.021426</td>\n",
       "      <td>0.022845</td>\n",
       "      <td>0.059301</td>\n",
       "      <td>...</td>\n",
       "      <td>0.670390</td>\n",
       "      <td>0.272404</td>\n",
       "      <td>-0.024473</td>\n",
       "      <td>-0.002649</td>\n",
       "      <td>-0.002498</td>\n",
       "      <td>-0.002930</td>\n",
       "      <td>0.167913</td>\n",
       "      <td>1.000000</td>\n",
       "      <td>0.974276</td>\n",
       "      <td>0.390813</td>\n",
       "    </tr>\n",
       "    <tr>\n",
       "      <th>588</th>\n",
       "      <td>-0.028166</td>\n",
       "      <td>0.010118</td>\n",
       "      <td>-0.030818</td>\n",
       "      <td>-0.033645</td>\n",
       "      <td>-0.026100</td>\n",
       "      <td>NaN</td>\n",
       "      <td>0.032227</td>\n",
       "      <td>-0.020893</td>\n",
       "      <td>0.026250</td>\n",
       "      <td>0.060758</td>\n",
       "      <td>...</td>\n",
       "      <td>0.682405</td>\n",
       "      <td>0.258745</td>\n",
       "      <td>-0.020705</td>\n",
       "      <td>-0.002260</td>\n",
       "      <td>-0.001957</td>\n",
       "      <td>-0.002530</td>\n",
       "      <td>0.164238</td>\n",
       "      <td>0.974276</td>\n",
       "      <td>1.000000</td>\n",
       "      <td>0.389211</td>\n",
       "    </tr>\n",
       "    <tr>\n",
       "      <th>589</th>\n",
       "      <td>0.004174</td>\n",
       "      <td>0.044797</td>\n",
       "      <td>-0.032890</td>\n",
       "      <td>-0.080341</td>\n",
       "      <td>0.050910</td>\n",
       "      <td>NaN</td>\n",
       "      <td>0.043777</td>\n",
       "      <td>-0.107804</td>\n",
       "      <td>-0.022770</td>\n",
       "      <td>0.004880</td>\n",
       "      <td>...</td>\n",
       "      <td>0.221922</td>\n",
       "      <td>0.585288</td>\n",
       "      <td>0.041486</td>\n",
       "      <td>-0.003008</td>\n",
       "      <td>-0.003295</td>\n",
       "      <td>-0.003800</td>\n",
       "      <td>-0.486559</td>\n",
       "      <td>0.390813</td>\n",
       "      <td>0.389211</td>\n",
       "      <td>1.000000</td>\n",
       "    </tr>\n",
       "  </tbody>\n",
       "</table>\n",
       "<p>590 rows × 590 columns</p>\n",
       "</div>"
      ],
      "text/plain": [
       "            0         1         2         3         4   5         6         7  \\\n",
       "0    1.000000 -0.143840  0.004756 -0.007613 -0.011014 NaN  0.002270  0.031483   \n",
       "1   -0.143840  1.000000  0.005767 -0.007568 -0.001636 NaN -0.025564 -0.012037   \n",
       "2    0.004756  0.005767  1.000000  0.298935  0.095891 NaN -0.136225 -0.146213   \n",
       "3   -0.007613 -0.007568  0.298935  1.000000 -0.058483 NaN -0.685835  0.073856   \n",
       "4   -0.011014 -0.001636  0.095891 -0.058483  1.000000 NaN -0.074368 -0.347734   \n",
       "..        ...       ...       ...       ...       ...  ..       ...       ...   \n",
       "585  0.023589  0.002273  0.015752  0.026019 -0.001616 NaN -0.039517  0.010337   \n",
       "586  0.018443 -0.009403 -0.025495  0.034711 -0.043929 NaN -0.041209  0.058113   \n",
       "587 -0.025880  0.017266 -0.029345 -0.039132 -0.031005 NaN  0.034027 -0.021426   \n",
       "588 -0.028166  0.010118 -0.030818 -0.033645 -0.026100 NaN  0.032227 -0.020893   \n",
       "589  0.004174  0.044797 -0.032890 -0.080341  0.050910 NaN  0.043777 -0.107804   \n",
       "\n",
       "            8         9  ...       580       581       582       583  \\\n",
       "0   -0.052622  0.009045  ... -0.042208 -0.017120  0.000224  0.023453   \n",
       "1    0.031258  0.023964  ...  0.047372  0.054006  0.043556  0.002904   \n",
       "2    0.023528  0.016168  ... -0.012402 -0.007054 -0.006023  0.015697   \n",
       "3   -0.102892  0.068215  ... -0.042177 -0.071311  0.008988  0.025436   \n",
       "4   -0.025946  0.054206  ... -0.041256  0.088167  0.045081 -0.001300   \n",
       "..        ...       ...  ...       ...       ...       ...       ...   \n",
       "585  0.017925 -0.036109  ... -0.000277 -0.000471 -0.197363  0.999890   \n",
       "586  0.010433  0.033738  ...  0.148954 -0.283333 -0.016726  0.002257   \n",
       "587  0.022845  0.059301  ...  0.670390  0.272404 -0.024473 -0.002649   \n",
       "588  0.026250  0.060758  ...  0.682405  0.258745 -0.020705 -0.002260   \n",
       "589 -0.022770  0.004880  ...  0.221922  0.585288  0.041486 -0.003008   \n",
       "\n",
       "          584       585       586       587       588       589  \n",
       "0    0.019907  0.023589  0.018443 -0.025880 -0.028166  0.004174  \n",
       "1   -0.001264  0.002273 -0.009403  0.017266  0.010118  0.044797  \n",
       "2    0.018225  0.015752 -0.025495 -0.029345 -0.030818 -0.032890  \n",
       "3    0.024736  0.026019  0.034711 -0.039132 -0.033645 -0.080341  \n",
       "4   -0.001597 -0.001616 -0.043929 -0.031005 -0.026100  0.050910  \n",
       "..        ...       ...       ...       ...       ...       ...  \n",
       "585  0.995342  1.000000  0.002743 -0.002930 -0.002530 -0.003800  \n",
       "586  0.001605  0.002743  1.000000  0.167913  0.164238 -0.486559  \n",
       "587 -0.002498 -0.002930  0.167913  1.000000  0.974276  0.390813  \n",
       "588 -0.001957 -0.002530  0.164238  0.974276  1.000000  0.389211  \n",
       "589 -0.003295 -0.003800 -0.486559  0.390813  0.389211  1.000000  \n",
       "\n",
       "[590 rows x 590 columns]"
      ]
     },
     "execution_count": 10,
     "metadata": {},
     "output_type": "execute_result"
    }
   ],
   "source": [
    "var_reduce_uci.corr()"
   ]
  },
  {
   "cell_type": "code",
   "execution_count": 16,
   "metadata": {
    "colab": {
     "base_uri": "https://localhost:8080/",
     "height": 253
    },
    "colab_type": "code",
    "id": "p_Gcwj1Si_K7",
    "outputId": "bd945d60-afd9-4412-9531-ca9fec68b0ab"
   },
   "outputs": [
    {
     "data": {
      "text/html": [
       "<div>\n",
       "<style scoped>\n",
       "    .dataframe tbody tr th:only-of-type {\n",
       "        vertical-align: middle;\n",
       "    }\n",
       "\n",
       "    .dataframe tbody tr th {\n",
       "        vertical-align: top;\n",
       "    }\n",
       "\n",
       "    .dataframe thead th {\n",
       "        text-align: right;\n",
       "    }\n",
       "</style>\n",
       "<table border=\"1\" class=\"dataframe\">\n",
       "  <thead>\n",
       "    <tr style=\"text-align: right;\">\n",
       "      <th></th>\n",
       "      <th>0</th>\n",
       "      <th>1</th>\n",
       "      <th>2</th>\n",
       "      <th>3</th>\n",
       "      <th>4</th>\n",
       "      <th>5</th>\n",
       "      <th>6</th>\n",
       "      <th>7</th>\n",
       "      <th>8</th>\n",
       "      <th>9</th>\n",
       "      <th>...</th>\n",
       "      <th>580</th>\n",
       "      <th>581</th>\n",
       "      <th>582</th>\n",
       "      <th>583</th>\n",
       "      <th>584</th>\n",
       "      <th>585</th>\n",
       "      <th>586</th>\n",
       "      <th>587</th>\n",
       "      <th>588</th>\n",
       "      <th>589</th>\n",
       "    </tr>\n",
       "  </thead>\n",
       "  <tbody>\n",
       "    <tr>\n",
       "      <th>0</th>\n",
       "      <td>3030.93</td>\n",
       "      <td>2564.00</td>\n",
       "      <td>2187.7333</td>\n",
       "      <td>1411.1265</td>\n",
       "      <td>1.3602</td>\n",
       "      <td>100.0</td>\n",
       "      <td>97.6133</td>\n",
       "      <td>0.1242</td>\n",
       "      <td>1.5005</td>\n",
       "      <td>0.0162</td>\n",
       "      <td>...</td>\n",
       "      <td>0.005396</td>\n",
       "      <td>97.934373</td>\n",
       "      <td>0.5005</td>\n",
       "      <td>0.0118</td>\n",
       "      <td>0.0035</td>\n",
       "      <td>2.3630</td>\n",
       "      <td>0.021458</td>\n",
       "      <td>0.016475</td>\n",
       "      <td>0.005283</td>\n",
       "      <td>99.670066</td>\n",
       "    </tr>\n",
       "    <tr>\n",
       "      <th>1</th>\n",
       "      <td>3095.78</td>\n",
       "      <td>2465.14</td>\n",
       "      <td>2230.4222</td>\n",
       "      <td>1463.6606</td>\n",
       "      <td>0.8294</td>\n",
       "      <td>100.0</td>\n",
       "      <td>102.3433</td>\n",
       "      <td>0.1247</td>\n",
       "      <td>1.4966</td>\n",
       "      <td>-0.0005</td>\n",
       "      <td>...</td>\n",
       "      <td>0.006000</td>\n",
       "      <td>208.204500</td>\n",
       "      <td>0.5019</td>\n",
       "      <td>0.0223</td>\n",
       "      <td>0.0055</td>\n",
       "      <td>4.4447</td>\n",
       "      <td>0.009600</td>\n",
       "      <td>0.020100</td>\n",
       "      <td>0.006000</td>\n",
       "      <td>208.204500</td>\n",
       "    </tr>\n",
       "    <tr>\n",
       "      <th>2</th>\n",
       "      <td>2932.61</td>\n",
       "      <td>2559.94</td>\n",
       "      <td>2186.4111</td>\n",
       "      <td>1698.0172</td>\n",
       "      <td>1.5102</td>\n",
       "      <td>100.0</td>\n",
       "      <td>95.4878</td>\n",
       "      <td>0.1241</td>\n",
       "      <td>1.4436</td>\n",
       "      <td>0.0041</td>\n",
       "      <td>...</td>\n",
       "      <td>0.014800</td>\n",
       "      <td>82.860200</td>\n",
       "      <td>0.4958</td>\n",
       "      <td>0.0157</td>\n",
       "      <td>0.0039</td>\n",
       "      <td>3.1745</td>\n",
       "      <td>0.058400</td>\n",
       "      <td>0.048400</td>\n",
       "      <td>0.014800</td>\n",
       "      <td>82.860200</td>\n",
       "    </tr>\n",
       "    <tr>\n",
       "      <th>3</th>\n",
       "      <td>2988.72</td>\n",
       "      <td>2479.90</td>\n",
       "      <td>2199.0333</td>\n",
       "      <td>909.7926</td>\n",
       "      <td>1.3204</td>\n",
       "      <td>100.0</td>\n",
       "      <td>104.2367</td>\n",
       "      <td>0.1217</td>\n",
       "      <td>1.4882</td>\n",
       "      <td>-0.0124</td>\n",
       "      <td>...</td>\n",
       "      <td>0.004400</td>\n",
       "      <td>73.843200</td>\n",
       "      <td>0.4990</td>\n",
       "      <td>0.0103</td>\n",
       "      <td>0.0025</td>\n",
       "      <td>2.0544</td>\n",
       "      <td>0.020200</td>\n",
       "      <td>0.014900</td>\n",
       "      <td>0.004400</td>\n",
       "      <td>73.843200</td>\n",
       "    </tr>\n",
       "    <tr>\n",
       "      <th>4</th>\n",
       "      <td>3032.24</td>\n",
       "      <td>2502.87</td>\n",
       "      <td>2233.3667</td>\n",
       "      <td>1326.5200</td>\n",
       "      <td>1.5334</td>\n",
       "      <td>100.0</td>\n",
       "      <td>100.3967</td>\n",
       "      <td>0.1235</td>\n",
       "      <td>1.5031</td>\n",
       "      <td>-0.0031</td>\n",
       "      <td>...</td>\n",
       "      <td>0.005396</td>\n",
       "      <td>97.934373</td>\n",
       "      <td>0.4800</td>\n",
       "      <td>0.4766</td>\n",
       "      <td>0.1045</td>\n",
       "      <td>99.3032</td>\n",
       "      <td>0.020200</td>\n",
       "      <td>0.014900</td>\n",
       "      <td>0.004400</td>\n",
       "      <td>73.843200</td>\n",
       "    </tr>\n",
       "  </tbody>\n",
       "</table>\n",
       "<p>5 rows × 590 columns</p>\n",
       "</div>"
      ],
      "text/plain": [
       "         0        1          2          3       4      5         6       7  \\\n",
       "0  3030.93  2564.00  2187.7333  1411.1265  1.3602  100.0   97.6133  0.1242   \n",
       "1  3095.78  2465.14  2230.4222  1463.6606  0.8294  100.0  102.3433  0.1247   \n",
       "2  2932.61  2559.94  2186.4111  1698.0172  1.5102  100.0   95.4878  0.1241   \n",
       "3  2988.72  2479.90  2199.0333   909.7926  1.3204  100.0  104.2367  0.1217   \n",
       "4  3032.24  2502.87  2233.3667  1326.5200  1.5334  100.0  100.3967  0.1235   \n",
       "\n",
       "        8       9  ...       580         581     582     583     584      585  \\\n",
       "0  1.5005  0.0162  ...  0.005396   97.934373  0.5005  0.0118  0.0035   2.3630   \n",
       "1  1.4966 -0.0005  ...  0.006000  208.204500  0.5019  0.0223  0.0055   4.4447   \n",
       "2  1.4436  0.0041  ...  0.014800   82.860200  0.4958  0.0157  0.0039   3.1745   \n",
       "3  1.4882 -0.0124  ...  0.004400   73.843200  0.4990  0.0103  0.0025   2.0544   \n",
       "4  1.5031 -0.0031  ...  0.005396   97.934373  0.4800  0.4766  0.1045  99.3032   \n",
       "\n",
       "        586       587       588         589  \n",
       "0  0.021458  0.016475  0.005283   99.670066  \n",
       "1  0.009600  0.020100  0.006000  208.204500  \n",
       "2  0.058400  0.048400  0.014800   82.860200  \n",
       "3  0.020200  0.014900  0.004400   73.843200  \n",
       "4  0.020200  0.014900  0.004400   73.843200  \n",
       "\n",
       "[5 rows x 590 columns]"
      ]
     },
     "execution_count": 16,
     "metadata": {},
     "output_type": "execute_result"
    }
   ],
   "source": [
    "var_reduce_uci.head()"
   ]
  },
  {
   "cell_type": "markdown",
   "metadata": {
    "colab_type": "text",
    "id": "LvpJ25swj-9S"
   },
   "source": [
    "- 상관계수로 정상적인 결과가 출력되지 않음\n",
    "- PCA등의 차원 축소기법의 결과를 기대하기 어려운 상황\n",
    "- -> 클러스터링으로 변수간 관계를 통해 케이스를 나눠서 분석시행"
   ]
  },
  {
   "cell_type": "code",
   "execution_count": 17,
   "metadata": {
    "colab": {},
    "colab_type": "code",
    "id": "B0uSsFRUqRfQ"
   },
   "outputs": [],
   "source": [
    "kmeans_uci = var_reduce_uci.T"
   ]
  },
  {
   "cell_type": "code",
   "execution_count": 18,
   "metadata": {
    "colab": {},
    "colab_type": "code",
    "id": "pJaLoi-Ql-Gc"
   },
   "outputs": [],
   "source": [
    "from sklearn.cluster import KMeans\n",
    "\n",
    "kmeans = KMeans().fit(kmeans_uci)"
   ]
  },
  {
   "cell_type": "code",
   "execution_count": 19,
   "metadata": {
    "colab": {
     "base_uri": "https://localhost:8080/",
     "height": 179
    },
    "colab_type": "code",
    "id": "G3TDYmQPpJWQ",
    "outputId": "81fa3cb5-af0f-4947-d2e3-eb76cea7883c"
   },
   "outputs": [
    {
     "data": {
      "text/plain": [
       "count    590.000000\n",
       "mean       0.077966\n",
       "std        0.553448\n",
       "min        0.000000\n",
       "25%        0.000000\n",
       "50%        0.000000\n",
       "75%        0.000000\n",
       "max        7.000000\n",
       "dtype: float64"
      ]
     },
     "execution_count": 19,
     "metadata": {},
     "output_type": "execute_result"
    }
   ],
   "source": [
    "pd.Series(kmeans.labels_).describe()"
   ]
  },
  {
   "cell_type": "code",
   "execution_count": 20,
   "metadata": {
    "colab": {
     "base_uri": "https://localhost:8080/",
     "height": 286
    },
    "colab_type": "code",
    "id": "UMnn9XtypMoo",
    "outputId": "100e0ebf-cee4-406e-a11c-2f21203b6454",
    "scrolled": true
   },
   "outputs": [
    {
     "data": {
      "text/plain": [
       "<matplotlib.axes._subplots.AxesSubplot at 0x19efa58c148>"
      ]
     },
     "execution_count": 20,
     "metadata": {},
     "output_type": "execute_result"
    },
    {
     "data": {
      "image/png": "[encoded data removed]",
      "text/plain": [
       "<Figure size 432x288 with 1 Axes>"
      ]
     },
     "metadata": {
      "needs_background": "light"
     },
     "output_type": "display_data"
    }
   ],
   "source": [
    "pd.Series(kmeans.labels_).hist()"
   ]
  },
  {
   "cell_type": "code",
   "execution_count": 21,
   "metadata": {
    "colab": {
     "base_uri": "https://localhost:8080/",
     "height": 179
    },
    "colab_type": "code",
    "id": "c5y_e3ZUplz7",
    "outputId": "4970f197-067e-4b16-ad46-cfec0594f085"
   },
   "outputs": [
    {
     "data": {
      "text/plain": [
       "0    575\n",
       "2      8\n",
       "4      2\n",
       "7      1\n",
       "6      1\n",
       "5      1\n",
       "3      1\n",
       "1      1\n",
       "dtype: int64"
      ]
     },
     "execution_count": 21,
     "metadata": {},
     "output_type": "execute_result"
    }
   ],
   "source": [
    "pd.Series(kmeans.labels_).value_counts()"
   ]
  },
  {
   "cell_type": "markdown",
   "metadata": {
    "colab_type": "text",
    "id": "7iZLsLwesvpM"
   },
   "source": [
    "- 클러스터링 결과 대다수의 변수가 0으로 쏠리고 그렇지 않은 소수의 클러스터가 존재함을 확인\n",
    "- kmeans_uci table에 cluster_id라는 파생변수 추가하여 클러스터별 데이터 분기 작업 시행"
   ]
  },
  {
   "cell_type": "code",
   "execution_count": 22,
   "metadata": {
    "colab": {},
    "colab_type": "code",
    "id": "zxA_8tNdqdLC"
   },
   "outputs": [],
   "source": [
    "kmeans_uci['cluster_id']= kmeans.labels_"
   ]
  },
  {
   "cell_type": "code",
   "execution_count": 23,
   "metadata": {
    "colab": {
     "base_uri": "https://localhost:8080/",
     "height": 179
    },
    "colab_type": "code",
    "id": "uP4yW0EisvpO",
    "outputId": "e03fda98-c9d5-49c4-c0cb-c3a44755e876",
    "scrolled": true
   },
   "outputs": [
    {
     "data": {
      "text/plain": [
       "0    575\n",
       "2      8\n",
       "4      2\n",
       "7      1\n",
       "6      1\n",
       "5      1\n",
       "3      1\n",
       "1      1\n",
       "dtype: int64"
      ]
     },
     "execution_count": 23,
     "metadata": {},
     "output_type": "execute_result"
    }
   ],
   "source": [
    "pd.Series(kmeans.labels_).value_counts()"
   ]
  },
  {
   "cell_type": "markdown",
   "metadata": {
    "colab_type": "text",
    "id": "siqf1xjgsvpQ"
   },
   "source": [
    "- 레이블 확인 결과, 대부분의 column이 0의 클러스터를 가지고 나머지는 각각의 계수를 가짐\n",
    "- 이를 토대로 cluster_id 계수로 데이터 분기 진행"
   ]
  },
  {
   "cell_type": "markdown",
   "metadata": {
    "colab_type": "text",
    "id": "9QDl_w5Y90jE"
   },
   "source": [
    "Clustering 결과 7개의 군집으로 분기의 결과\n",
    "\n",
    "- 16개의 컬럼으로 이루어진 결과.\n",
    "- 두 집단의 columns의 수가 달라 학습결과 비교분석 불가능\n",
    "- 이에 따라 일반 데이터로 Decision Tree 학습 진행"
   ]
  },
  {
   "cell_type": "markdown",
   "metadata": {},
   "source": [
    "# 일반 분류 모델 설계"
   ]
  },
  {
   "cell_type": "code",
   "execution_count": 25,
   "metadata": {
    "colab": {},
    "colab_type": "code",
    "id": "RBC6ijgbuQuz"
   },
   "outputs": [],
   "source": [
    "from sklearn.model_selection import train_test_split\n",
    "\n",
    "x = uci.iloc[:,1:-1]\n",
    "y = uci.iloc[:,-1]\n",
    "\n",
    "train_x,test_x,train_y,test_y = train_test_split(x,y,test_size=0.33,random_state=123)"
   ]
  },
  {
   "cell_type": "code",
   "execution_count": 26,
   "metadata": {
    "colab": {
     "base_uri": "https://localhost:8080/",
     "height": 283
    },
    "colab_type": "code",
    "id": "gWIBLuyeBn7A",
    "outputId": "4701b059-182d-42cb-f3b8-48a39d8af991"
   },
   "outputs": [
    {
     "data": {
      "text/plain": [
       "<matplotlib.axes._subplots.AxesSubplot at 0x19e80b48ec8>"
      ]
     },
     "execution_count": 26,
     "metadata": {},
     "output_type": "execute_result"
    },
    {
     "data": {
      "image/png": "[encoded data removed]",
      "text/plain": [
       "<Figure size 432x288 with 1 Axes>"
      ]
     },
     "metadata": {
      "needs_background": "light"
     },
     "output_type": "display_data"
    }
   ],
   "source": [
    "y.hist()"
   ]
  },
  {
   "cell_type": "code",
   "execution_count": 27,
   "metadata": {
    "colab": {
     "base_uri": "https://localhost:8080/",
     "height": 35
    },
    "colab_type": "code",
    "id": "aFvK72Jl7WXX",
    "outputId": "8b6fdb95-a53a-41e8-95ec-8c98e4d08b31"
   },
   "outputs": [
    {
     "data": {
      "text/plain": [
       "(1049, 590)"
      ]
     },
     "execution_count": 27,
     "metadata": {},
     "output_type": "execute_result"
    }
   ],
   "source": [
    "train_x.shape"
   ]
  },
  {
   "cell_type": "code",
   "execution_count": 28,
   "metadata": {
    "colab": {
     "base_uri": "https://localhost:8080/",
     "height": 35
    },
    "colab_type": "code",
    "id": "9HwX5A4a7ggV",
    "outputId": "547ce6ee-c59a-4b59-e538-116525903797"
   },
   "outputs": [
    {
     "data": {
      "text/plain": [
       "(518, 590)"
      ]
     },
     "execution_count": 28,
     "metadata": {},
     "output_type": "execute_result"
    }
   ],
   "source": [
    "test_x.shape"
   ]
  },
  {
   "cell_type": "code",
   "execution_count": 29,
   "metadata": {
    "colab": {
     "base_uri": "https://localhost:8080/",
     "height": 233
    },
    "colab_type": "code",
    "id": "WSNdjtP57g6e",
    "outputId": "05656ac6-3694-42fb-f502-d32d1bdffee0"
   },
   "outputs": [
    {
     "data": {
      "text/plain": [
       "939    -1\n",
       "1065   -1\n",
       "798    -1\n",
       "177    -1\n",
       "386    -1\n",
       "       ..\n",
       "1122   -1\n",
       "1346   -1\n",
       "1406   -1\n",
       "1389   -1\n",
       "1534   -1\n",
       "Name: Pass/Fail, Length: 1049, dtype: int64"
      ]
     },
     "execution_count": 29,
     "metadata": {},
     "output_type": "execute_result"
    }
   ],
   "source": [
    "train_y"
   ]
  },
  {
   "cell_type": "code",
   "execution_count": 30,
   "metadata": {
    "colab": {
     "base_uri": "https://localhost:8080/",
     "height": 233
    },
    "colab_type": "code",
    "id": "QUB-EqpC7hpG",
    "outputId": "d014e2c8-ceec-46c6-e80c-20209ad16644"
   },
   "outputs": [
    {
     "data": {
      "text/plain": [
       "906    -1\n",
       "987    -1\n",
       "929     1\n",
       "1118   -1\n",
       "623    -1\n",
       "       ..\n",
       "67     -1\n",
       "1424   -1\n",
       "579    -1\n",
       "691    -1\n",
       "1362   -1\n",
       "Name: Pass/Fail, Length: 518, dtype: int64"
      ]
     },
     "execution_count": 30,
     "metadata": {},
     "output_type": "execute_result"
    }
   ],
   "source": [
    "test_y"
   ]
  },
  {
   "cell_type": "markdown",
   "metadata": {
    "colab_type": "text",
    "id": "F4JJD2QRsvpv"
   },
   "source": [
    "### Decision Tree 분석\n",
    "- 클러스터링 기법을 통해 원본 데이터의 column을 분기한 후 분석 시행\n",
    "- 종속변수의 정상 비율이 워낙 높아 과적합의 가능성 존재"
   ]
  },
  {
   "cell_type": "code",
   "execution_count": 31,
   "metadata": {
    "colab": {
     "base_uri": "https://localhost:8080/",
     "height": 125
    },
    "colab_type": "code",
    "id": "3ofWh9PK7iGm",
    "outputId": "ed4ef978-ca2b-4e92-a106-436eb668b052"
   },
   "outputs": [
    {
     "data": {
      "text/plain": [
       "DecisionTreeClassifier(ccp_alpha=0.0, class_weight=None, criterion='gini',\n",
       "                       max_depth=1000, max_features=None, max_leaf_nodes=None,\n",
       "                       min_impurity_decrease=0.0, min_impurity_split=None,\n",
       "                       min_samples_leaf=31, min_samples_split=2,\n",
       "                       min_weight_fraction_leaf=0.0, presort='deprecated',\n",
       "                       random_state=123, splitter='best')"
      ]
     },
     "execution_count": 31,
     "metadata": {},
     "output_type": "execute_result"
    }
   ],
   "source": [
    "from sklearn.tree import DecisionTreeClassifier\n",
    "\n",
    "sample_ratio = 0.03\n",
    "min_sample_leaf = round(sample_ratio * len(train_x))\n",
    "tree = DecisionTreeClassifier(criterion = 'gini',max_depth=1000 ,random_state = 123, min_samples_leaf=min_sample_leaf)\n",
    "tree.fit(train_x,train_y)"
   ]
  },
  {
   "cell_type": "code",
   "execution_count": 32,
   "metadata": {
    "colab": {
     "base_uri": "https://localhost:8080/",
     "height": 1000
    },
    "colab_type": "code",
    "id": "t4LBdrcY83y4",
    "outputId": "e66ff696-4130-4c0b-b1da-75de71b149d4"
   },
   "outputs": [
    {
     "data": {
      "image/png": "[encoded data removed]",
      "text/plain": [
       "<IPython.core.display.Image object>"
      ]
     },
     "execution_count": 32,
     "metadata": {},
     "output_type": "execute_result"
    }
   ],
   "source": [
    "from sklearn.tree import export_graphviz\n",
    "import pydotplus\n",
    "from IPython.display import Image\n",
    "\n",
    "dot_data = export_graphviz(tree, out_file=None, filled=True, rounded=True, special_characters=True)\n",
    "graph = pydotplus.graph_from_dot_data(dot_data)\n",
    "Image(graph.create_png())"
   ]
  },
  {
   "cell_type": "code",
   "execution_count": 33,
   "metadata": {
    "colab": {},
    "colab_type": "code",
    "id": "4cD43ZFD8kQ4"
   },
   "outputs": [],
   "source": [
    "pred = tree.predict(test_x)"
   ]
  },
  {
   "cell_type": "code",
   "execution_count": 34,
   "metadata": {
    "colab": {
     "base_uri": "https://localhost:8080/",
     "height": 35
    },
    "colab_type": "code",
    "id": "qXw5FSp49fMJ",
    "outputId": "1de5b5d6-c4c1-484a-f318-b4dd14e57b59"
   },
   "outputs": [
    {
     "name": "stdout",
     "output_type": "stream",
     "text": [
      "Accuracy: 0.94\n"
     ]
    }
   ],
   "source": [
    "from sklearn.metrics import accuracy_score\n",
    "print('Accuracy: %.2f' % accuracy_score(test_y, pred))"
   ]
  },
  {
   "cell_type": "code",
   "execution_count": 35,
   "metadata": {
    "colab": {
     "base_uri": "https://localhost:8080/",
     "height": 53
    },
    "colab_type": "code",
    "id": "UIJVlC6x-632",
    "outputId": "34020d77-9d69-41eb-8df5-462c79636914"
   },
   "outputs": [
    {
     "name": "stdout",
     "output_type": "stream",
     "text": [
      "[[486   0]\n",
      " [ 32   0]]\n"
     ]
    }
   ],
   "source": [
    "from sklearn.metrics import confusion_matrix\n",
    "confusion_matrix = confusion_matrix(test_y, pred)\n",
    "print(confusion_matrix)\n"
   ]
  },
  {
   "cell_type": "markdown",
   "metadata": {
    "colab_type": "text",
    "id": "bVpsREjZ_UoT"
   },
   "source": [
    "- 정상의 비율이 워낙 많고 불량의 비율이 적어서 정상을 많이 맞춤"
   ]
  },
  {
   "cell_type": "code",
   "execution_count": 36,
   "metadata": {
    "colab": {
     "base_uri": "https://localhost:8080/",
     "height": 295
    },
    "colab_type": "code",
    "id": "glMfx3_H_kQR",
    "outputId": "576baf23-686b-4881-cd62-83def6d3ba26"
   },
   "outputs": [
    {
     "data": {
      "image/png": "[encoded data removed]",
      "text/plain": [
       "<Figure size 432x288 with 1 Axes>"
      ]
     },
     "metadata": {
      "needs_background": "light"
     },
     "output_type": "display_data"
    }
   ],
   "source": [
    "from sklearn.metrics import roc_auc_score\n",
    "from sklearn.metrics import roc_curve\n",
    "logit_roc_auc = roc_auc_score(test_y, pred)\n",
    "fpr, tpr, thresholds = roc_curve(test_y, tree.predict_proba(test_x)[:,1])\n",
    "plt.figure()\n",
    "plt.plot(fpr, tpr, label='Decision Tree Regression (area = %0.2f)' % logit_roc_auc)\n",
    "plt.plot([0, 1], [0, 1],'r--')\n",
    "plt.xlim([0.0, 1.0])\n",
    "plt.ylim([0.0, 1.05])\n",
    "plt.xlabel('False Positive Rate')\n",
    "plt.ylabel('True Positive Rate')\n",
    "plt.title('Receiver operating characteristic')\n",
    "plt.legend(loc=\"lower right\")\n",
    "plt.savefig('Decision Tree_ROC.png')\n",
    "plt.show()"
   ]
  },
  {
   "cell_type": "markdown",
   "metadata": {
    "colab_type": "text",
    "id": "5zLh1GX5CZDU"
   },
   "source": [
    "- columns의 수가 문제가 아닌 종속변수의 비율이 너무 낮아 문제 발생\n",
    "- 단순한 분류 문제가 아닌 이상치 탐지 문제로 해결해야 함.\n",
    "- Isolation Forest라는 모델을 통해 이상 탐지 진행"
   ]
  },
  {
   "cell_type": "code",
   "execution_count": 37,
   "metadata": {
    "colab": {
     "base_uri": "https://localhost:8080/",
     "height": 487
    },
    "colab_type": "code",
    "id": "bjbCqj0DE0I8",
    "outputId": "90a782d0-8a6d-4ab5-f997-ba1e9a470495"
   },
   "outputs": [
    {
     "data": {
      "image/png": "[encoded data removed]",
      "text/plain": [
       "<Figure size 576x576 with 1 Axes>"
      ]
     },
     "metadata": {},
     "output_type": "display_data"
    }
   ],
   "source": [
    "# pie chart\n",
    "\n",
    "labels = ['Fail', 'Pass']\n",
    "size = uci['Pass/Fail'].value_counts()\n",
    "colors = ['magenta', 'green']\n",
    "explode = [0, 0.1]\n",
    "\n",
    "plt.style.use('seaborn-deep')\n",
    "plt.rcParams['figure.figsize'] = (8, 8)\n",
    "plt.pie(size, labels =labels, colors = colors, explode = explode, autopct = \"%.2f%%\", shadow = True)\n",
    "plt.axis('off')\n",
    "plt.title('Target: Pass or Fail', fontsize = 20)\n",
    "plt.legend()\n",
    "plt.show()"
   ]
  },
  {
   "cell_type": "markdown",
   "metadata": {
    "colab_type": "text",
    "id": "7Wuly-3cU4dx"
   },
   "source": [
    "- 정상 데이터 : 93.36%\n",
    "- 비정상 데이터 : 6.64"
   ]
  },
  {
   "cell_type": "markdown",
   "metadata": {
    "colab_type": "text",
    "id": "PfOblSeyqqrb"
   },
   "source": [
    "### Decision Tree 분석 결과\n",
    "- Accuracy가 높은 이유는 정답인 데이터를 많이 맞췄기 때문\n",
    "- 하지만 불량을 거의 예측하지 못함\n",
    "- 이에 따라 AUC Curve의 그래프가 좋지 못함을 확인함\n",
    "\n",
    "=> 클러스터링을 통한 변수 분리가 이상치 분석에 좋은 영향을 끼치지 않음을 확인"
   ]
  },
  {
   "cell_type": "markdown",
   "metadata": {
    "colab_type": "text",
    "id": "K96CFohCoid-"
   },
   "source": [
    "### Xgboost와 결과 비교\n",
    "\n",
    "- 같은 트리모델을 사용하는 xgboost 알고리즘과 비교 분석 시행"
   ]
  },
  {
   "cell_type": "code",
   "execution_count": 38,
   "metadata": {
    "colab": {
     "base_uri": "https://localhost:8080/",
     "height": 71
    },
    "colab_type": "code",
    "id": "NA3tKhrasvqJ",
    "outputId": "a99edd65-4845-4074-f632-37f68a60c4a0",
    "scrolled": true
   },
   "outputs": [
    {
     "name": "stdout",
     "output_type": "stream",
     "text": [
      "Collecting xgboost\n",
      "  Downloading xgboost-1.1.1-py3-none-win_amd64.whl (54.4 MB)\n",
      "Requirement already satisfied: numpy in c:\\programdata\\anaconda3\\lib\\site-packages (from xgboost) (1.18.1)\n",
      "Requirement already satisfied: scipy in c:\\programdata\\anaconda3\\lib\\site-packages (from xgboost) (1.4.1)\n",
      "Installing collected packages: xgboost\n",
      "Successfully installed xgboost-1.1.1\n"
     ]
    }
   ],
   "source": [
    "!pip install xgboost"
   ]
  },
  {
   "cell_type": "code",
   "execution_count": 39,
   "metadata": {
    "colab": {},
    "colab_type": "code",
    "id": "M3kgHgaroh5H"
   },
   "outputs": [],
   "source": [
    "import xgboost as xgb\n",
    "from xgboost.sklearn import XGBClassifier\n",
    "\n",
    "model = XGBClassifier()\n",
    "\n",
    "model.fit(train_x, train_y)\n",
    "\n",
    "y_pred = model.predict(test_x)"
   ]
  },
  {
   "cell_type": "code",
   "execution_count": 40,
   "metadata": {
    "colab": {
     "base_uri": "https://localhost:8080/",
     "height": 345
    },
    "colab_type": "code",
    "id": "j9DAwnTbom_q",
    "outputId": "8af4865f-31c4-4559-c74a-8fc9c949834d",
    "scrolled": true
   },
   "outputs": [
    {
     "data": {
      "text/plain": [
       "<matplotlib.axes._subplots.AxesSubplot at 0x19e849be308>"
      ]
     },
     "execution_count": 40,
     "metadata": {},
     "output_type": "execute_result"
    },
    {
     "data": {
      "image/png": "[encoded data removed]",
      "text/plain": [
       "<Figure size 360x360 with 2 Axes>"
      ]
     },
     "metadata": {},
     "output_type": "display_data"
    }
   ],
   "source": [
    "from sklearn.metrics import confusion_matrix\n",
    "\n",
    "xgboost_cm = confusion_matrix(test_y, y_pred)\n",
    "plt.rcParams['figure.figsize'] = (5, 5)\n",
    "sns.set(style = 'dark', font_scale = 1.4)\n",
    "sns.heatmap(xgboost_cm, annot = True, annot_kws = {\"size\": 15})\n"
   ]
  },
  {
   "cell_type": "code",
   "execution_count": 41,
   "metadata": {
    "colab": {
     "base_uri": "https://localhost:8080/",
     "height": 345
    },
    "colab_type": "code",
    "id": "ptftF7Xxo6yy",
    "outputId": "a345b8d6-46e1-4445-c06b-b2ee2dc2c9d5",
    "scrolled": true
   },
   "outputs": [
    {
     "data": {
      "text/plain": [
       "<matplotlib.axes._subplots.AxesSubplot at 0x19e84b75348>"
      ]
     },
     "execution_count": 41,
     "metadata": {},
     "output_type": "execute_result"
    },
    {
     "data": {
      "image/png": "[encoded data removed]",
      "text/plain": [
       "<Figure size 360x360 with 1 Axes>"
      ]
     },
     "metadata": {},
     "output_type": "display_data"
    }
   ],
   "source": [
    "pd.Series(y_pred).hist()"
   ]
  },
  {
   "cell_type": "code",
   "execution_count": 42,
   "metadata": {
    "colab": {
     "base_uri": "https://localhost:8080/",
     "height": 346
    },
    "colab_type": "code",
    "id": "9dxQAtv0pINM",
    "outputId": "a4b50d11-d444-472e-e8fc-e730aaed3c9e",
    "scrolled": true
   },
   "outputs": [
    {
     "data": {
      "text/plain": [
       "<matplotlib.axes._subplots.AxesSubplot at 0x19e83dbba08>"
      ]
     },
     "execution_count": 42,
     "metadata": {},
     "output_type": "execute_result"
    },
    {
     "data": {
      "image/png": "[encoded data removed]",
      "text/plain": [
       "<Figure size 360x360 with 1 Axes>"
      ]
     },
     "metadata": {},
     "output_type": "display_data"
    }
   ],
   "source": [
    "test_y.hist()"
   ]
  },
  {
   "cell_type": "code",
   "execution_count": 43,
   "metadata": {
    "colab": {
     "base_uri": "https://localhost:8080/",
     "height": 321
    },
    "colab_type": "code",
    "id": "j58iCMKkTorP",
    "outputId": "bdddf166-6bed-4926-eb9b-cb33cb3828d1"
   },
   "outputs": [
    {
     "data": {
      "text/plain": [
       "<matplotlib.axes._subplots.AxesSubplot at 0x19e83de1d48>"
      ]
     },
     "execution_count": 43,
     "metadata": {},
     "output_type": "execute_result"
    },
    {
     "data": {
      "image/png": "[encoded data removed]",
      "text/plain": [
       "<Figure size 360x360 with 1 Axes>"
      ]
     },
     "metadata": {},
     "output_type": "display_data"
    }
   ],
   "source": [
    "pd.Series(y_pred, name = \"Xgboost Frequency\").value_counts().plot.pie(autopct='%.2f%%')"
   ]
  },
  {
   "cell_type": "markdown",
   "metadata": {
    "colab_type": "text",
    "id": "1GIHUoknsvqT"
   },
   "source": [
    "### Xgboost의 경우, 한 개의 이상치밖에 탐지하지 못함\n",
    "- 이에 따른 이상치 탐지 모델의 결과와 비교분석 시행"
   ]
  },
  {
   "cell_type": "code",
   "execution_count": null,
   "metadata": {},
   "outputs": [],
   "source": []
  }
 ],
 "metadata": {
  "colab": {
   "collapsed_sections": [],
   "name": "UCI_SECOM_Dataset_analysis.ipynb",
   "provenance": []
  },
  "kernelspec": {
   "display_name": "Python 3",
   "language": "python",
   "name": "python3"
  },
  "language_info": {
   "codemirror_mode": {
    "name": "ipython",
    "version": 3
   },
   "file_extension": ".py",
   "mimetype": "text/x-python",
   "name": "python",
   "nbconvert_exporter": "python",
   "pygments_lexer": "ipython3",
   "version": "3.7.6"
  }
 },
 "nbformat": 4,
 "nbformat_minor": 1
}
